{
 "cells": [
  {
   "cell_type": "markdown",
   "metadata": {},
   "source": [
    "# Question 1 : Write a program to subtract two complex numbers in Python.\n"
   ]
  },
  {
   "cell_type": "code",
   "execution_count": 3,
   "metadata": {},
   "outputs": [
    {
     "name": "stdout",
     "output_type": "stream",
     "text": [
      "Enter the real part of 1st number4\n",
      "Enter the imaginary part of 1st number4\n",
      "Enter the real part of 2nd number2\n",
      "Enter the real imaginary of 2nd number2\n",
      "Subtraction of (4+4j) and (2+2j) is (2+2j)\n"
     ]
    }
   ],
   "source": [
    "r1 = int(input(\"Enter the real part of 1st number\"))\n",
    "i1 = int(input(\"Enter the imaginary part of 1st number\"))\n",
    "r2 = int(input(\"Enter the real part of 2nd number\"))\n",
    "i2 = int(input(\"Enter the real imaginary of 2nd number\"))\n",
    "\n",
    "c1 = complex(r1,i1)\n",
    "c2 = complex(r2,i2)\n",
    "ans = c1 - c2\n",
    "\n",
    "print(\"Subtraction of\",c1,\"and\",c2,\"is\",ans)"
   ]
  },
  {
   "cell_type": "markdown",
   "metadata": {},
   "source": [
    "# Question 2 : Write a program to find the fourth root of a number.\n"
   ]
  },
  {
   "cell_type": "code",
   "execution_count": 10,
   "metadata": {},
   "outputs": [
    {
     "name": "stdout",
     "output_type": "stream",
     "text": [
      "Enter the number 81\n",
      "3.0\n"
     ]
    }
   ],
   "source": [
    "import math\n",
    "num = int(input(\"Enter the number \"))\n",
    "print(math.sqrt(math.sqrt(num)))"
   ]
  },
  {
   "cell_type": "markdown",
   "metadata": {},
   "source": [
    "# Question 3: Write a program to swap two numbers in Python with the help of a temporary variable."
   ]
  },
  {
   "cell_type": "code",
   "execution_count": 11,
   "metadata": {},
   "outputs": [
    {
     "name": "stdout",
     "output_type": "stream",
     "text": [
      "Enter the 1st number 5\n",
      "Enter the 2nd number 8\n",
      "Before swapping num1 = 5 num2 = 8\n",
      "After swapping num1 = 8 num2 = 8\n"
     ]
    }
   ],
   "source": [
    "num1 = int(input(\"Enter the 1st number \"))\n",
    "num2 = int(input(\"Enter the 2nd number \"))\n",
    "print(\"Before swapping num1 =\",num1,\"num2 =\",num2)\n",
    "\n",
    "#Swapping\n",
    "temp = num1\n",
    "num1 = num2\n",
    "num2 = num1\n",
    "\n",
    "print(\"After swapping num1 =\",num1,\"num2 =\",num2)"
   ]
  },
  {
   "cell_type": "markdown",
   "metadata": {},
   "source": [
    "# Question 4: Write a program to swap two numbers in Python without using a temporary variable."
   ]
  },
  {
   "cell_type": "code",
   "execution_count": 12,
   "metadata": {},
   "outputs": [
    {
     "name": "stdout",
     "output_type": "stream",
     "text": [
      "Enter the 1st number 5\n",
      "Enter the 2nd number 8\n",
      "Before swapping num1 = 5 num2 = 8\n",
      "After swapping num1 = 8 num2 = 5\n"
     ]
    }
   ],
   "source": [
    "num1 = int(input(\"Enter the 1st number \"))\n",
    "num2 = int(input(\"Enter the 2nd number \"))\n",
    "print(\"Before swapping num1 =\",num1,\"num2 =\",num2)\n",
    "\n",
    "#Swapping\n",
    "num1 = num1 + num2\n",
    "num2 = num1 - num2\n",
    "num1 = num1 - num2\n",
    "\n",
    "print(\"After swapping num1 =\",num1,\"num2 =\",num2)"
   ]
  },
  {
   "cell_type": "markdown",
   "metadata": {},
   "source": [
    "# Question 5: Write a program to convert fahrenheit to kelvin and celsius both.\n"
   ]
  },
  {
   "cell_type": "code",
   "execution_count": 13,
   "metadata": {},
   "outputs": [
    {
     "name": "stdout",
     "output_type": "stream",
     "text": [
      "Enter the farenheit temperature 120\n",
      "Temperature in Farenheit 120 Temperature in Celsius 48.888888888888886 Temperature in Kelvin 322.03888888888895\n"
     ]
    }
   ],
   "source": [
    "temp_f = int(input(\"Enter the farenheit temperature \"))\n",
    "temp_c = (temp_f - 32)/1.8\n",
    "temp_k = ((temp_f + 459.67) * 5)/9\n",
    "print(\"Temperature in Farenheit\",temp_f,\"Temperature in Celsius\",temp_c,\"Temperature in Kelvin\",temp_k)"
   ]
  },
  {
   "cell_type": "markdown",
   "metadata": {},
   "source": [
    "# Question 6: Write a program to demonstrate all the available data types in Python. \n"
   ]
  },
  {
   "cell_type": "code",
   "execution_count": 24,
   "metadata": {},
   "outputs": [
    {
     "name": "stdout",
     "output_type": "stream",
     "text": [
      "List of Data Types in Python\n",
      "String - <class 'str'>\n",
      "Integer - <class 'int'>\n",
      "Float - <class 'float'>\n",
      "Complex - <class 'complex'>\n",
      "Boolean - <class 'bool'>\n",
      "List - <class 'list'>\n",
      "Set - <class 'set'>\n",
      "Tuple - <class 'tuple'>\n",
      "Dictionary - <class 'dict'>\n",
      "Range - <class 'range'>\n"
     ]
    }
   ],
   "source": [
    "print(\"List of Data Types in Python\")\n",
    "print(\"String -\",type(\"hello\"))\n",
    "print(\"Integer -\",type(15))\n",
    "print(\"Float -\",type(15.15))\n",
    "print(\"Complex -\",type(15+8j))\n",
    "print(\"Boolean -\",type(True))\n",
    "print(\"List -\",type([10,15,18]))\n",
    "print(\"Set -\",type({10,15,18}))\n",
    "print(\"Tuple -\",type((10,15,18)))\n",
    "print(\"Dictionary -\",type({1:\"a\",2:\"b\"}))\n",
    "print(\"Range -\",type(range(3)))"
   ]
  },
  {
   "cell_type": "markdown",
   "metadata": {},
   "source": [
    "# Question 7: Create a Markdown cell in jupyter and list the steps discussed in the session by Dr. Darshan Ingle sir to create Github profile and upload Githubs Assignment link."
   ]
  },
  {
   "cell_type": "markdown",
   "metadata": {},
   "source": [
    "## Github is used to PUSH the code and for that we need to create our profile and build a public/private repository.\n",
    "## 1. Create public repo with name LetsUpgrade AI/ML\n",
    "## 2. Upload the folder containing the solution to the repo\n",
    "## 3. Check if the URl of .ipynb is visible to everyone\n",
    "## 4. Submit the URL in google form with respective day\n",
    "## 5. Wait for the confirmation ,if received then its done else try again"
   ]
  },
  {
   "cell_type": "code",
   "execution_count": null,
   "metadata": {},
   "outputs": [],
   "source": []
  }
 ],
 "metadata": {
  "kernelspec": {
   "display_name": "Python 3",
   "language": "python",
   "name": "python3"
  },
  "language_info": {
   "codemirror_mode": {
    "name": "ipython",
    "version": 3
   },
   "file_extension": ".py",
   "mimetype": "text/x-python",
   "name": "python",
   "nbconvert_exporter": "python",
   "pygments_lexer": "ipython3",
   "version": "3.7.3"
  }
 },
 "nbformat": 4,
 "nbformat_minor": 2
}
