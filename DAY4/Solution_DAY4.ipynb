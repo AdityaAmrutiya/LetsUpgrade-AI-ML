{
 "cells": [
  {
   "cell_type": "markdown",
   "metadata": {},
   "source": [
    "# Question 1 : Research on whether addition, subtraction, multiplication, division, floor division and modulo operations be performed on complex numbers. Based on your study, implement a Python program to demonstrate these operations.\n"
   ]
  },
  {
   "cell_type": "markdown",
   "metadata": {},
   "source": [
    "### Only Floor and modulus operators (// and % respectively) are not allowed to be used on complex number in Python 3.x . However, these operations are defined for complex numbers in Python 2.7.x"
   ]
  },
  {
   "cell_type": "code",
   "execution_count": 2,
   "metadata": {},
   "outputs": [
    {
     "name": "stdout",
     "output_type": "stream",
     "text": [
      "Enter the real part of 1st number5\n",
      "Enter the imaginary part of 1st number5\n",
      "Enter the real part of 2nd number2\n",
      "Enter the real imaginary of 2nd number2\n",
      "Addition of (5+5j) and (2+2j) is (7+7j)\n",
      "Subtraction of (5+5j) and (2+2j) is (3+3j)\n",
      "Multiplication of (5+5j) and (2+2j) is 20j\n",
      "Division of (5+5j) and (2+2j) is (2.5+0j)\n"
     ]
    }
   ],
   "source": [
    "r1 = int(input(\"Enter the real part of 1st number\"))\n",
    "i1 = int(input(\"Enter the imaginary part of 1st number\"))\n",
    "r2 = int(input(\"Enter the real part of 2nd number\"))\n",
    "i2 = int(input(\"Enter the real imaginary of 2nd number\"))\n",
    "\n",
    "c1 = complex(r1,i1)\n",
    "c2 = complex(r2,i2)\n",
    "add = c1 + c2\n",
    "sub = c1 - c2\n",
    "mul = c1 * c2\n",
    "div = c1 / c2\n",
    "\n",
    "print(\"Addition of\",c1,\"and\",c2,\"is\",add)\n",
    "print(\"Subtraction of\",c1,\"and\",c2,\"is\",sub)\n",
    "print(\"Multiplication of\",c1,\"and\",c2,\"is\",mul)\n",
    "print(\"Division of\",c1,\"and\",c2,\"is\",div)"
   ]
  },
  {
   "cell_type": "markdown",
   "metadata": {},
   "source": [
    "# Question 2 : Research on range() functions and its parameters. Create a markdown cell and write in your own words (no copy-paste from google please) what you understand about it. Implement a small program of your choice on the same.\n"
   ]
  },
  {
   "cell_type": "markdown",
   "metadata": {},
   "source": [
    "## The built-in range() function in Python is very useful to generate sequences of numbers in the form of a list.\n",
    "## Syntax:  \n",
    "### range(stop)\n",
    "### range(start, stop[, step])\n",
    "### start - An integer number specify starting position. Default is 0.\n",
    "### stop - An integer number specify end position. Default is 0. Not included in the output list.\n",
    "### step - Increment between each integer in the sequence. Default is 1\n"
   ]
  },
  {
   "cell_type": "code",
   "execution_count": 5,
   "metadata": {},
   "outputs": [
    {
     "name": "stdout",
     "output_type": "stream",
     "text": [
      "[]\n",
      "[0, 1, 2, 3, 4, 5, 6, 7, 8, 9, 10, 11]\n",
      "[1, 2, 3, 4, 5, 6, 7, 8, 9, 10, 11, 12, 13, 14]\n",
      "[0, 5, 10, 15, 20, 25]\n"
     ]
    }
   ],
   "source": [
    "# empty range\n",
    "print(list(range(0)))\n",
    "\n",
    "# using range(stop)\n",
    "print(list(range(12)))\n",
    "\n",
    "# using range(start, stop)\n",
    "print(list(range(1, 15)))\n",
    "\n",
    "# range upto 30 but 5 step jumps\n",
    "print(list(range(0, 30, 5)))"
   ]
  },
  {
   "cell_type": "markdown",
   "metadata": {},
   "source": [
    "# Question 3: Consider two numbers. Perform their subtraction and if the result of subtraction is greater than 25, print their multiplication result else print their division result."
   ]
  },
  {
   "cell_type": "code",
   "execution_count": 6,
   "metadata": {},
   "outputs": [
    {
     "name": "stdout",
     "output_type": "stream",
     "text": [
      "Enter the 1st number8\n",
      "Enter the 2nd number4\n",
      "The Division is 2.0\n"
     ]
    }
   ],
   "source": [
    "num1 = int(input(\"Enter the 1st number\"))\n",
    "num2 = int(input(\"Enter the 2nd number\"))\n",
    "sub = num1 - num2\n",
    "\n",
    "if (sub>25):\n",
    "    print(\"The Multiplication is\",num1*num2)\n",
    "else:\n",
    "    print(\"The Division is\",num1/num2)"
   ]
  },
  {
   "cell_type": "markdown",
   "metadata": {},
   "source": [
    "# Question 4: Consider a list of 10 elements of integer values. If the number in the list is divisible by 2, print the result as \"square of that number minus 2\".\n"
   ]
  },
  {
   "cell_type": "code",
   "execution_count": 12,
   "metadata": {},
   "outputs": [
    {
     "name": "stdout",
     "output_type": "stream",
     "text": [
      "Enter element in the list 1\n",
      "Enter element in the list 2\n",
      "Enter element in the list 3\n",
      "Enter element in the list 4\n",
      "Enter element in the list 5\n",
      "Enter element in the list 6\n",
      "Enter element in the list 7\n",
      "Enter element in the list 8\n",
      "Enter element in the list 9\n",
      "Enter element in the list 10\n",
      "The input list - [1, 2, 3, 4, 5, 6, 7, 8, 9, 10]\n",
      "The output list - [1, 2, 3, 14, 5, 34, 7, 62, 9, 98]\n"
     ]
    }
   ],
   "source": [
    "lst = []\n",
    "\n",
    "for i in range(10):\n",
    "    a = int(input(\"Enter element in the list \"))\n",
    "    lst.append(a)\n",
    "print(\"The input list -\",lst)\n",
    "new_lst = lst\n",
    "\n",
    "for i in range(10):\n",
    "    if(new_lst[i]%2==0):\n",
    "        new_lst[i]=(new_lst[i]*new_lst[i])-2\n",
    "\n",
    "print(\"The output list -\",new_lst)"
   ]
  },
  {
   "cell_type": "markdown",
   "metadata": {},
   "source": [
    "# Question 5: Consider a list of 10 elements. Print all the elements in the list which are greater than 7 when that number is divided 2."
   ]
  },
  {
   "cell_type": "code",
   "execution_count": 13,
   "metadata": {},
   "outputs": [
    {
     "name": "stdout",
     "output_type": "stream",
     "text": [
      "Enter element in the list 2\n",
      "Enter element in the list 4\n",
      "Enter element in the list 6\n",
      "Enter element in the list 8\n",
      "Enter element in the list 10\n",
      "Enter element in the list 14\n",
      "Enter element in the list 18\n",
      "Enter element in the list 22\n",
      "Enter element in the list 16\n",
      "Enter element in the list 26\n",
      "The input list - [2, 4, 6, 8, 10, 14, 18, 22, 16, 26]\n",
      "The output list - [18, 22, 16, 26]\n"
     ]
    }
   ],
   "source": [
    "lst = []\n",
    "\n",
    "for i in range(10):\n",
    "    a = int(input(\"Enter element in the list \"))\n",
    "    lst.append(a)\n",
    "print(\"The input list -\",lst)\n",
    "new_lst = []\n",
    "\n",
    "for i in range(10):\n",
    "    if((lst[i]/2)>7):\n",
    "        new_lst.append(lst[i])\n",
    "\n",
    "print(\"The output list -\",new_lst)"
   ]
  },
  {
   "cell_type": "code",
   "execution_count": null,
   "metadata": {},
   "outputs": [],
   "source": []
  }
 ],
 "metadata": {
  "kernelspec": {
   "display_name": "Python 3",
   "language": "python",
   "name": "python3"
  },
  "language_info": {
   "codemirror_mode": {
    "name": "ipython",
    "version": 3
   },
   "file_extension": ".py",
   "mimetype": "text/x-python",
   "name": "python",
   "nbconvert_exporter": "python",
   "pygments_lexer": "ipython3",
   "version": "3.7.3"
  }
 },
 "nbformat": 4,
 "nbformat_minor": 2
}
