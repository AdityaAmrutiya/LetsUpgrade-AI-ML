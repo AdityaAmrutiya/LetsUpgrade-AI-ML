{
 "cells": [
  {
   "cell_type": "markdown",
   "metadata": {},
   "source": [
    "# Question 1 :Write a Python program to find the first 20 non-even prime natural numbers."
   ]
  },
  {
   "cell_type": "code",
   "execution_count": 6,
   "metadata": {},
   "outputs": [
    {
     "name": "stdout",
     "output_type": "stream",
     "text": [
      "[3, 5, 7, 11, 13, 17, 19, 23, 29, 31, 37, 41, 43, 47, 53, 59, 61, 67, 71, 73]\n"
     ]
    }
   ],
   "source": [
    "def non_even_prime_natural_numbers(num):\n",
    "    lst = []\n",
    "    count = 0\n",
    "    for i in range(3,100000,2):\n",
    "        prime=True\n",
    "        for j in range(3,int(i/2)):\n",
    "            if (i%j == 0):\n",
    "                prime=False\n",
    "        if (prime==True and count < num):\n",
    "            lst.append(i)\n",
    "            count = count +1\n",
    "    \n",
    "        if (count==num):\n",
    "            return lst\n",
    "            break\n",
    "\n",
    "prime_num=20            \n",
    "lst = non_even_prime_natural_numbers(prime_num)\n",
    "print(lst)"
   ]
  },
  {
   "cell_type": "markdown",
   "metadata": {},
   "source": [
    "# Question 2 : Write a Python program to implement 15 functions of string.\n"
   ]
  },
  {
   "cell_type": "code",
   "execution_count": 24,
   "metadata": {},
   "outputs": [
    {
     "name": "stdout",
     "output_type": "stream",
     "text": [
      "aDiTya AmruTiyA1996\n",
      "2 0\n",
      "False False\n",
      "Aditya   amrutiya1996  \n",
      "True False\n",
      "True False\n",
      "False False\n",
      "False False\n",
      "Aditya   Amrutiya1996  \n",
      "aditya   amrutiya1996  \n",
      "AdItYA   aMRUtIYa1996  \n",
      "ADITYA   AMRUTIYA1996  \n",
      "False False\n",
      "aDiTya   AmruTiyA1996  \n",
      "False False\n"
     ]
    }
   ],
   "source": [
    "def string_functions(string1,string2):\n",
    "    print(string1.strip(),string2.strip())\n",
    "    print(string1.count(\"a\"),string2.count(\"a\"))\n",
    "    print(string1.islower(),string2.islower())\n",
    "    print(string1.capitalize(),string2.capitalize())\n",
    "    print(string1.isalpha(),string2.isalpha())\n",
    "    print(string1.isalnum(),string2.isalnum())\n",
    "    print(string1.isdecimal(),string2.isdecimal())\n",
    "    print(string1.istitle(),string2.istitle())\n",
    "    print(string1.title(),string2.title())\n",
    "    print(string1.lower(),string2.lower())\n",
    "    print(string1.swapcase(),string2.swapcase())\n",
    "    print(string1.upper(),string2.upper())\n",
    "    print(string1.isupper(),string2.isupper())\n",
    "    print(string1.zfill(3),string2.zfill(3))\n",
    "    print(string1.isspace(),string2.isspace())\n",
    "    \n",
    "    \n",
    "string_functions(\"aDiTya\",\"  AmruTiyA1996  \")"
   ]
  },
  {
   "cell_type": "markdown",
   "metadata": {},
   "source": [
    "# Question 3: Write a Python program to check if the given string is a Palindrome or Anagram or None of them. Display the message accordingly to the user."
   ]
  },
  {
   "cell_type": "code",
   "execution_count": 25,
   "metadata": {},
   "outputs": [
    {
     "name": "stdout",
     "output_type": "stream",
     "text": [
      "abcba is palindrome\n",
      "aacbb is not palindrome\n",
      "The strings are anagrams of each other.\n"
     ]
    }
   ],
   "source": [
    "def Palindrome(string): \n",
    "    if (string == string[::-1]):\n",
    "        print(string,\"is palindrome\")\n",
    "    else:\n",
    "        print(string,\"is not palindrome\")\n",
    "\n",
    "def Anagram(string1, string2): \n",
    "     \n",
    "    if(sorted(string1)== sorted(string2)): \n",
    "        print(\"The strings are anagrams of each other.\")  \n",
    "    else: \n",
    "        print(\"The strings are not anagrams.\") \n",
    "        \n",
    "def my_func(string1,string2):\n",
    "    Palindrome(string1)\n",
    "    Palindrome(string2)\n",
    "    Anagram(string1, string2)\n",
    "    \n",
    "my_func(\"abcba\",\"aacbb\")\n",
    "    "
   ]
  },
  {
   "cell_type": "markdown",
   "metadata": {},
   "source": [
    "# Question 4: Write a Python's user defined function that removes all the additional characters from the string and converts it finally to lower case using built-in lower(). eg: If the string is \"Dr. Darshan Ingle @AI-ML Trainer\", then the output be \"drdarshaningle aimltrainer\"."
   ]
  },
  {
   "cell_type": "code",
   "execution_count": 33,
   "metadata": {},
   "outputs": [
    {
     "name": "stdout",
     "output_type": "stream",
     "text": [
      "Enter the String -Abc@#1 aBC*&23 A B C ! @ 2\n",
      "abc1abc23abc2\n"
     ]
    }
   ],
   "source": [
    "def my_func (string):\n",
    "    s=''.join(char for char in string if char.isalnum())\n",
    "    return s.lower()\n",
    "  \n",
    "string = input(\"Enter the String -\")    \n",
    "s = my_func(string)\n",
    "print(s)"
   ]
  },
  {
   "cell_type": "code",
   "execution_count": null,
   "metadata": {},
   "outputs": [],
   "source": []
  }
 ],
 "metadata": {
  "kernelspec": {
   "display_name": "Python 3",
   "language": "python",
   "name": "python3"
  },
  "language_info": {
   "codemirror_mode": {
    "name": "ipython",
    "version": 3
   },
   "file_extension": ".py",
   "mimetype": "text/x-python",
   "name": "python",
   "nbconvert_exporter": "python",
   "pygments_lexer": "ipython3",
   "version": "3.7.3"
  }
 },
 "nbformat": 4,
 "nbformat_minor": 2
}
